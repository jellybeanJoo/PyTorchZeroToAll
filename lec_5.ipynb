{
  "nbformat": 4,
  "nbformat_minor": 0,
  "metadata": {
    "colab": {
      "name": "lec_5.ipynb",
      "provenance": [],
      "authorship_tag": "ABX9TyOO0btw71BLti1xa9y4GrKz",
      "include_colab_link": true
    },
    "kernelspec": {
      "name": "python3",
      "display_name": "Python 3"
    },
    "language_info": {
      "name": "python"
    }
  },
  "cells": [
    {
      "cell_type": "markdown",
      "metadata": {
        "id": "view-in-github",
        "colab_type": "text"
      },
      "source": [
        "<a href=\"https://colab.research.google.com/github/jellybeanJoo/PyTorchZeroToAll/blob/main/lec_5.ipynb\" target=\"_parent\"><img src=\"https://colab.research.google.com/assets/colab-badge.svg\" alt=\"Open In Colab\"/></a>"
      ]
    },
    {
      "cell_type": "code",
      "metadata": {
        "id": "vL0aMJNAk9UG"
      },
      "source": [
        "import torch\n",
        "from torch.autograd import Variable\n",
        "\n",
        "x_data=Variable(torch.Tensor([[1.0],[2.0],[3.0]]))\n",
        "y_data=Variable(torch.Tensor([[2.0],[4.0],[6.0]]))\n",
        "\n",
        "class Model(torch.nn.Module):\n",
        "  def __init__(self):\n",
        "    super(Model,self).__init__()\n",
        "    self.linear=torch.nn.Linear(1,1)\n",
        "\n",
        "  def forward(self,x):\n",
        "    y_pred=self.linear(x)\n",
        "    return y_pred\n",
        "\n",
        "model=Model()\n",
        "\n",
        "criterion=torch.nn.MSELoss(size_average=False)\n",
        "optimizer=torch.optim.SGD(model.parameters(),lr=0.01)\n",
        "\n",
        "for epoch in range(500):\n",
        "  y_pred=model(x_data)\n",
        "  loss=criterion(y_pred,y_data)\n",
        "  print(epoch,loss.item())\n",
        "  optimizer.zero_grad()\n",
        "  loss.backward()\n",
        "  optimizer.step()\n",
        "\n",
        "hour_var=Variable(torch.Tensor([[4.0]]))\n",
        "print(\"predict\",4,model.forward(hour_var).data[0][0])"
      ],
      "execution_count": null,
      "outputs": []
    }
  ]
}