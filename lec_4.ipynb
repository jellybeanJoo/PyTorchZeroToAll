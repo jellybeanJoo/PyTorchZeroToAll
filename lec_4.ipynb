{
  "nbformat": 4,
  "nbformat_minor": 0,
  "metadata": {
    "colab": {
      "name": "lec_4.ipynb",
      "provenance": [],
      "authorship_tag": "ABX9TyN8rP9onbqUgIrTljcwAwYw",
      "include_colab_link": true
    },
    "kernelspec": {
      "name": "python3",
      "display_name": "Python 3"
    },
    "language_info": {
      "name": "python"
    }
  },
  "cells": [
    {
      "cell_type": "markdown",
      "metadata": {
        "id": "view-in-github",
        "colab_type": "text"
      },
      "source": [
        "<a href=\"https://colab.research.google.com/github/jellybeanJoo/PyTorchZeroToAll/blob/main/lec_4.ipynb\" target=\"_parent\"><img src=\"https://colab.research.google.com/assets/colab-badge.svg\" alt=\"Open In Colab\"/></a>"
      ]
    },
    {
      "cell_type": "code",
      "metadata": {
        "id": "lFshWHYQZxsj"
      },
      "source": [
        "import torch\n",
        "from torch.autograd import Variable\n",
        "\n",
        "x_data=[1.0,2.0,3.0]\n",
        "y_data=[2.0,4.0,6.0]\n",
        "\n",
        "w = Variable(torch.Tensor([1.0]), requires_grad=True)\n",
        "\n",
        "def forward(x):\n",
        "  return w*x\n",
        "\n",
        "def loss(x,y):\n",
        "  y_pred=forward(x)\n",
        "  return (y_pred-y)**2\n",
        "\n",
        "for epoch in range(10):\n",
        "  for x_val,y_val in zip(x_data,y_data):\n",
        "    l=loss(x_val,y_val)\n",
        "    l.backward()\n",
        "    w.data=w.data-0.01*w.grad.data\n",
        "    w.grad.data.zero_()\n",
        "  print(\"progress:\",epoch,l.data[0])\n",
        "\n",
        "print(\"predict after training\",4,forward(4).data[0])"
      ],
      "execution_count": null,
      "outputs": []
    }
  ]
}