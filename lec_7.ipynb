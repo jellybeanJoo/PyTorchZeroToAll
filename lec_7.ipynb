{
  "nbformat": 4,
  "nbformat_minor": 0,
  "metadata": {
    "colab": {
      "name": "lec_7.ipynb",
      "provenance": [],
      "authorship_tag": "ABX9TyOL3ymu1Suov6RR73ZDjrpP",
      "include_colab_link": true
    },
    "kernelspec": {
      "name": "python3",
      "display_name": "Python 3"
    },
    "language_info": {
      "name": "python"
    }
  },
  "cells": [
    {
      "cell_type": "markdown",
      "metadata": {
        "id": "view-in-github",
        "colab_type": "text"
      },
      "source": [
        "<a href=\"https://colab.research.google.com/github/jellybeanJoo/PyTorchZeroToAll/blob/main/lec_7.ipynb\" target=\"_parent\"><img src=\"https://colab.research.google.com/assets/colab-badge.svg\" alt=\"Open In Colab\"/></a>"
      ]
    },
    {
      "cell_type": "code",
      "metadata": {
        "id": "DlM0kmuHmNoa"
      },
      "source": [
        "import numpy as np\n",
        "import torch\n",
        "from torch.autograd import Variable\n",
        "xy=np.loadtxt('/content/diabetes.csv',delimiter=',',dtype=np.float32)\n",
        "x_data=Variable(torch.from_numpy(xy[:,0:-1]))\n",
        "y_data=Variable(torch.from_numpy(xy[:,[-1]]))\n",
        "\n",
        "class Model(torch.nn.Module):\n",
        "  def __init__(self):\n",
        "    super(Model,self).__init__()\n",
        "    self.l1=torch.nn.Linear(8,6)\n",
        "    self.l2=torch.nn.Linear(6,4)\n",
        "    self.l3=torch.nn.Linear(4,1)\n",
        "    \n",
        "    self.sigmoid=torch.nn.Sigmoid()\n",
        "\n",
        "  def forward(self,x):\n",
        "    out1=self.sigmoid(self.l1(x))\n",
        "    out2=self.sigmoid(self.l2(out1))\n",
        "    y_pred=self.sigmoid(self.l3(out2))\n",
        "    return y_pred\n",
        "\n",
        "model=Model()\n",
        "\n",
        "criterion=torch.nn.BCELoss(size_average=True)\n",
        "optimizer=torch.optim.SGD(model.parameters(),lr=0.1)\n",
        "\n",
        "for epoch in range(1000):\n",
        "  y_pred=model(x_data)\n",
        "  loss=criterion(y_pred,y_data)\n",
        "  print(epoch,loss.item())\n",
        "\n",
        "  optimizer.zero_grad()\n",
        "  loss.backward()\n",
        "  optimizer.step()"
      ],
      "execution_count": null,
      "outputs": []
    },
    {
      "cell_type": "code",
      "metadata": {
        "id": "buO8hqrUq1jF"
      },
      "source": [
        "!cd /content/gdrive/mydrive"
      ],
      "execution_count": null,
      "outputs": []
    },
    {
      "cell_type": "code",
      "metadata": {
        "id": "nwbk_QWaq7cY"
      },
      "source": [
        "!cd /content/gdrive/My\\Drive"
      ],
      "execution_count": 8,
      "outputs": []
    },
    {
      "cell_type": "code",
      "metadata": {
        "id": "J5ic5oUvrCRW"
      },
      "source": [
        "!cd /content"
      ],
      "execution_count": 10,
      "outputs": []
    },
    {
      "cell_type": "code",
      "metadata": {
        "colab": {
          "base_uri": "https://localhost:8080/"
        },
        "id": "8z-2AiD4r-wa",
        "outputId": "b8b762ae-1532-4e8a-8ea2-5e8738fb1b67"
      },
      "source": [
        "file_id=\"1DBPlbJsJtCNpQFIEI9z71K2H661WdjzO\"\n",
        "!gdown https://drive.google.com/uc?id={file_id}"
      ],
      "execution_count": 13,
      "outputs": [
        {
          "output_type": "stream",
          "text": [
            "Downloading...\n",
            "From: https://drive.google.com/uc?id=1DBPlbJsJtCNpQFIEI9z71K2H661WdjzO\n",
            "To: /content/diabetes.csv\n",
            "\r  0% 0.00/53.4k [00:00<?, ?B/s]\r100% 53.4k/53.4k [00:00<00:00, 3.59MB/s]\n"
          ],
          "name": "stdout"
        }
      ]
    },
    {
      "cell_type": "code",
      "metadata": {
        "id": "X8JrJA0ru-tX"
      },
      "source": [
        "#exercise 7-1\n",
        "import numpy as np\n",
        "import torch\n",
        "from torch.autograd import Variable\n",
        "xy=np.loadtxt('/content/diabetes.csv',delimiter=',',dtype=np.float32)\n",
        "x_data=Variable(torch.from_numpy(xy[:,0:-1]))\n",
        "y_data=Variable(torch.from_numpy(xy[:,[-1]]))\n",
        "\n",
        "class Model(torch.nn.Module):\n",
        "  def __init__(self):\n",
        "    super(Model,self).__init__()\n",
        "    self.l1=torch.nn.Linear(8,7)\n",
        "    self.l2=torch.nn.Linear(7,6)\n",
        "    self.l3=torch.nn.Linear(6,5)\n",
        "    self.l4=torch.nn.Linear(5,4)\n",
        "    self.l5=torch.nn.Linear(4,3)\n",
        "    self.l6=torch.nn.Linear(3,2)\n",
        "    self.l7=torch.nn.Linear(2,1)\n",
        "    \n",
        "  def forward(self,x):\n",
        "    out1=torch.tanh(self.l1(x))\n",
        "    out2=torch.tanh(self.l2(out1))\n",
        "    out3=torch.tanh(self.l3(out2))\n",
        "    out4=torch.tanh(self.l4(out3))\n",
        "    out5=torch.tanh(self.l5(out4))\n",
        "    out6=torch.tanh(self.l6(out5))\n",
        "    y_pred=abs(torch.tanh(self.l7(out6)))\n",
        "    return y_pred\n",
        "\n",
        "model=Model()\n",
        "\n",
        "criterion=torch.nn.BCELoss(reduction='mean')\n",
        "optimizer=torch.optim.Adam(model.parameters(),lr=0.1)\n",
        "\n",
        "for epoch in range(1000):\n",
        "  y_pred=model(x_data)\n",
        "  loss=criterion(y_pred,y_data)\n",
        "  print(epoch,loss.item())\n",
        "\n",
        "  optimizer.zero_grad()\n",
        "  loss.backward()\n",
        "  optimizer.step()"
      ],
      "execution_count": null,
      "outputs": []
    }
  ]
}