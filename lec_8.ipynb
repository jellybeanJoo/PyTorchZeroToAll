{
  "nbformat": 4,
  "nbformat_minor": 0,
  "metadata": {
    "colab": {
      "name": "lec_8.ipynb",
      "provenance": [],
      "authorship_tag": "ABX9TyPfRZhfhl7vCSlM/1q4W+v3",
      "include_colab_link": true
    },
    "kernelspec": {
      "name": "python3",
      "display_name": "Python 3"
    },
    "language_info": {
      "name": "python"
    }
  },
  "cells": [
    {
      "cell_type": "markdown",
      "metadata": {
        "id": "view-in-github",
        "colab_type": "text"
      },
      "source": [
        "<a href=\"https://colab.research.google.com/github/jellybeanJoo/PyTorchZeroToAll/blob/main/lec_8.ipynb\" target=\"_parent\"><img src=\"https://colab.research.google.com/assets/colab-badge.svg\" alt=\"Open In Colab\"/></a>"
      ]
    },
    {
      "cell_type": "code",
      "metadata": {
        "id": "bJMZYoCODzDx"
      },
      "source": [
        "import torch\n",
        "import numpy as np\n",
        "from torch.autograd import Variable\n",
        "from torch.utils.data import Dataset,DataLoader\n",
        "\n",
        "class DiaDataset(Dataset):\n",
        "  def __init__(self):\n",
        "    xy=np.loadtxt('diabetes.csv',delimiter=',',dtype=np.float32)\n",
        "    self.len=xy.shape[0]\n",
        "    self.x_data=torch.from_numpy(xy[:,0:-1])\n",
        "    self.y_data=torch.from_numpy(xy[:,[-1]])\n",
        "  def __getitem__(self,index):\n",
        "    return self.x_data[index],self.y_data[index]\n",
        "  def __len__(self):\n",
        "    return self.len\n",
        "\n",
        "dataset=DiaDataset()\n",
        "train_loader=DataLoader(dataset=dataset,batch_size=32,shuffle=True,num_workers=2)\n",
        "\n",
        "class Model(torch.nn.Module):\n",
        "  def __init__(self):\n",
        "    super(Model,self).__init__()\n",
        "    self.l1=torch.nn.Linear(8,6)\n",
        "    self.l2=torch.nn.Linear(6,4)\n",
        "    self.l3=torch.nn.Linear(4,1)\n",
        "    \n",
        "    self.sigmoid=torch.nn.Sigmoid()\n",
        "  def forward(self,x):\n",
        "    out1=self.sigmoid(self.l1(x))\n",
        "    out2=self.sigmoid(self.l2(out1))\n",
        "    y_pred=self.sigmoid(self.l3(out2))\n",
        "    return y_pred\n",
        "\n",
        "model=Model()\n",
        "criterion=torch.nn.BCELoss(size_average=True)\n",
        "optimizer=torch.optim.SGD(model.parameters(),lr=0.1)\n",
        "\n",
        "for epoch in range(50):\n",
        "  for i,data in enumerate(train_loader,0):\n",
        "    inputs, labels = data\n",
        "    inputs, labels = Variable(inputs), Variable(labels)\n",
        "    y_pred=model(inputs)\n",
        "\n",
        "    loss=criterion(y_pred,labels)\n",
        "    print(epoch,i,loss.item())\n",
        "\n",
        "    optimizer.zero_grad()\n",
        "    loss.backward()\n",
        "    optimizer.step()\n"
      ],
      "execution_count": null,
      "outputs": []
    },
    {
      "cell_type": "code",
      "metadata": {
        "colab": {
          "base_uri": "https://localhost:8080/"
        },
        "id": "IEZImQl44Zuf",
        "outputId": "d5e3137b-a4a4-475c-f914-a20a47e8a399"
      },
      "source": [
        "file_id=\"1DBPlbJsJtCNpQFIEI9z71K2H661WdjzO\"\n",
        "!gdown https://drive.google.com/uc?id={file_id}"
      ],
      "execution_count": 2,
      "outputs": [
        {
          "output_type": "stream",
          "text": [
            "Downloading...\n",
            "From: https://drive.google.com/uc?id=1DBPlbJsJtCNpQFIEI9z71K2H661WdjzO\n",
            "To: /content/diabetes.csv\n",
            "\r  0% 0.00/53.4k [00:00<?, ?B/s]\r100% 53.4k/53.4k [00:00<00:00, 1.69MB/s]\n"
          ],
          "name": "stdout"
        }
      ]
    },
    {
      "cell_type": "code",
      "metadata": {
        "colab": {
          "base_uri": "https://localhost:8080/"
        },
        "id": "Hxkjf8c04dIu",
        "outputId": "7afd3701-0009-4cde-b9e2-9378f9aaaa9e"
      },
      "source": [
        "file_id=\"11Pu-Rg-L1JmKO6U1hTBs2P6UFl_CypyZ\"\n",
        "!gdown https://drive.google.com/uc?id={file_id}"
      ],
      "execution_count": 1,
      "outputs": [
        {
          "output_type": "stream",
          "text": [
            "Downloading...\n",
            "From: https://drive.google.com/uc?id=11Pu-Rg-L1JmKO6U1hTBs2P6UFl_CypyZ\n",
            "To: /content/train.csv\n",
            "\r  0% 0.00/61.2k [00:00<?, ?B/s]\r100% 61.2k/61.2k [00:00<00:00, 970kB/s]\n"
          ],
          "name": "stdout"
        }
      ]
    },
    {
      "cell_type": "code",
      "metadata": {
        "id": "vdr8euYnrfe2"
      },
      "source": [
        "#exercise 8-1 Titanic analysis\n",
        "#아직 제대로 완성을 못했습니다...\n",
        "\n",
        "import torch\n",
        "import numpy as np\n",
        "from torch.autograd import Variable\n",
        "from torch.utils.data import Dataset,DataLoader\n",
        "import csv\n",
        "\n",
        "file=open('train.csv','r',encoding='utf-8')\n",
        "xy=csv.reader(file)\n",
        "\n",
        "'''\n",
        "xy=np.genfromtxt('train.csv',encoding='ascii')\n",
        "xy.info()\n",
        "'''\n",
        "'''\n",
        "class Titanic(Dataset):\n",
        "  def __init__(self):\n",
        "    xy=np.loadtxt('train.csv',delimiter=',',dtype=np.float32)\n",
        "    self.len=xy.shape[0]\n",
        "    self.x_data=torch.from_numpy(xy[:,0:-1])\n",
        "    self.y_data=torch.from_numpy(xy[:,[1]])\n",
        "  def __getitem__(self,index):\n",
        "    return self.x_data[index],self.y_data[index]\n",
        "  def __len__(self):\n",
        "    return self.len\n",
        "\n",
        "dataset=Titanic()\n",
        "train_loader=DataLoader(dataset=dataset,batch_size=32,shuffle=True,num_workers=2)\n",
        "\n",
        "class Model(torch.nn.Module):\n",
        "  def __init__(self):\n",
        "    super(Model,self).__init__()\n",
        "    self.l1=torch.nn.Linear(8,6)\n",
        "    self.l2=torch.nn.Linear(6,4)\n",
        "    self.l3=torch.nn.Linear(4,1)\n",
        "    \n",
        "    self.sigmoid=torch.nn.Sigmoid()\n",
        "  def forward(self,x):\n",
        "    out1=self.sigmoid(self.l1(x))\n",
        "    out2=self.sigmoid(self.l2(out1))\n",
        "    y_pred=self.sigmoid(self.l3(out2))\n",
        "    return y_pred\n",
        "\n",
        "model=Model()\n",
        "criterion=torch.nn.BCELoss(size_average=True)\n",
        "optimizer=torch.optim.SGD(model.parameters(),lr=0.1)\n",
        "\n",
        "for epoch in range(50):\n",
        "  for i,data in enumerate(train_loader,0):\n",
        "    inputs, labels = data\n",
        "    inputs, labels = Variable(inputs), Variable(labels)\n",
        "    y_pred=model(inputs)\n",
        "\n",
        "    loss=criterion(y_pred,labels)\n",
        "    print(epoch,i,loss.item())\n",
        "\n",
        "    optimizer.zero_grad()\n",
        "    loss.backward()\n",
        "    optimizer.step()\n",
        "'''"
      ],
      "execution_count": null,
      "outputs": []
    }
  ]
}