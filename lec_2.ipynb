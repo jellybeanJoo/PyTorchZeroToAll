{
  "nbformat": 4,
  "nbformat_minor": 0,
  "metadata": {
    "colab": {
      "name": "lec_2.ipynb",
      "provenance": [],
      "authorship_tag": "ABX9TyMKTvYoVXfniOQ1Xjz2Y7rn",
      "include_colab_link": true
    },
    "kernelspec": {
      "name": "python3",
      "display_name": "Python 3"
    },
    "language_info": {
      "name": "python"
    }
  },
  "cells": [
    {
      "cell_type": "markdown",
      "metadata": {
        "id": "view-in-github",
        "colab_type": "text"
      },
      "source": [
        "<a href=\"https://colab.research.google.com/github/jellybeanJoo/PyTorchZeroToAll/blob/main/lec_2.ipynb\" target=\"_parent\"><img src=\"https://colab.research.google.com/assets/colab-badge.svg\" alt=\"Open In Colab\"/></a>"
      ]
    },
    {
      "cell_type": "code",
      "metadata": {
        "id": "d08BtiD4KMcG"
      },
      "source": [
        "import numpy as np\n",
        "x_data=[1.0,2.0,3.0]\n",
        "y_data=[2.0,4.0,6.0]\n",
        "w=0.0\n",
        "def forward(x):\n",
        "  return x*w\n",
        "\n",
        "def loss(x,y):\n",
        "  y_pred=forward(x)\n",
        "  return (y_pred-y)*(y_pred-y)\n",
        "\n",
        "for w in np.arange(0.0,4.0,0.1):\n",
        "  l_sum=0\n",
        "  print(w)\n",
        "  for x_val,y_val in zip(x_data, y_data):\n",
        "    y_pred_val=forward(x_val)\n",
        "    l=loss(x_val,y_val)\n",
        "    l_sum+=l\n",
        "    print('\\t',x_val,y_val,y_pred_val,l)\n",
        "  print(\"MSE=\",l_sum/3)\n"
      ],
      "execution_count": null,
      "outputs": []
    },
    {
      "cell_type": "code",
      "metadata": {
        "id": "vKx1Z4fLBi5j"
      },
      "source": [
        "import numpy as np\n",
        "import matplotlib.pyplot as plt\n",
        "x_data=[1.0,2.0,3.0]\n",
        "y_data=[2.0,4.0,6.0]\n",
        "w=0.0\n",
        "w_list=[]\n",
        "mse_list=[]\n",
        "def forward(x):\n",
        "  return x*w\n",
        "\n",
        "def loss(x,y):\n",
        "  y_pred=forward(x)\n",
        "  return (y_pred-y)*(y_pred-y)\n",
        "\n",
        "for w in np.arange(0.0,4.0,0.1):\n",
        "  l_sum=0\n",
        "  for x_val,y_val in zip(x_data, y_data):\n",
        "    y_pred_val=forward(x_val)\n",
        "    l=loss(x_val,y_val)\n",
        "    l_sum+=l\n",
        "  w_list.append(w)\n",
        "  mse_list.append(l_sum/3)\n",
        "\n",
        "plt.plot(w_list,mse_list)\n",
        "plt.ylabel('loss')\n",
        "plt.xlabel('w')\n",
        "plt.show()"
      ],
      "execution_count": null,
      "outputs": []
    },
    {
      "cell_type": "code",
      "metadata": {
        "id": "9Ms8RdL-FD_Z"
      },
      "source": [
        "#exercise 2-1\n",
        "import numpy as np\n",
        "import matplotlib.pyplot as plt\n",
        "\n",
        "xdata=[1,2,3,4,5,6]\n",
        "ydata=[2,3,4,5,6,7]\n",
        "wlist=[]\n",
        "mselist=[]\n",
        "w=0\n",
        "def forward(x):\n",
        "  return w*x\n",
        "\n",
        "def loss(x,y):\n",
        "  y_pred=forward(x)\n",
        "  return (y_pred-y)**2\n",
        "\n",
        "for w in np.arange(-8,9,1):\n",
        "  l_sum=0\n",
        "  for x,y in zip(xdata,ydata):\n",
        "    l=loss(x,y)\n",
        "    l_sum+=l\n",
        "  wlist.append(w)\n",
        "  mselist.append(l_sum/3)\n",
        "\n",
        "plt.plot(wlist,mselist)\n",
        "plt.ylabel('loss')\n",
        "plt.xlabel('w')\n",
        "plt.show()\n",
        "  \n"
      ],
      "execution_count": null,
      "outputs": []
    }
  ]
}